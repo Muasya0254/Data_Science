{
 "cells": [
  {
   "cell_type": "code",
   "execution_count": 1,
   "metadata": {},
   "outputs": [],
   "source": [
    "import pandas as pd"
   ]
  },
  {
   "cell_type": "code",
   "execution_count": 5,
   "metadata": {},
   "outputs": [
    {
     "name": "stdout",
     "output_type": "stream",
     "text": [
      "\n",
      " Original df: \n",
      "\n",
      "    Fruit_ID Fruit_Type  Weight   Color  Taste  Price  Rating\n",
      "0         1      Apple     120     Red  Sweet    2.0     4.5\n",
      "1         2     Banana     150  Yellow  Sweet    3.0     4.8\n",
      "2         3     Orange     100  Orange  Sweet    2.5     4.3\n",
      "3         4     Banana     130  Yellow  Sweet    3.0     4.7\n",
      "4         5      Apple     110     Red  Sweet    2.0     4.4\n"
     ]
    }
   ],
   "source": [
    "# Create a Pandas DataFrame with some features and values\n",
    "df = pd.DataFrame({\n",
    "    \"Fruit_ID\": [1, 2, 3, 4, 5],\n",
    "    \"Fruit_Type\": [\"Apple\", \"Banana\", \"Orange\", \"Banana\", \"Apple\"],\n",
    "    \"Weight\": [120, 150, 100, 130, 110],\n",
    "    \"Color\": [\"Red\", \"Yellow\", \"Orange\", \"Yellow\", \"Red\"],\n",
    "    \"Taste\": [\"Sweet\", \"Sweet\", \"Sweet\", \"Sweet\", \"Sweet\"],\n",
    "    \"Price\": [2, 3, 2.5, 3, 2],\n",
    "    \"Rating\": [4.5, 4.8, 4.3, 4.7, 4.4]\n",
    "})\n",
    "print('\\n Original df: \\n\\n'  ,df)"
   ]
  },
  {
   "cell_type": "code",
   "execution_count": 6,
   "metadata": {},
   "outputs": [],
   "source": [
    "# Label encode the Color, Shape, and Material features\n",
    "for col in [\"Fruit_Type\", \"Color\", \"Taste\"]:\n",
    "    df[col] = df[col].astype(\"category\")\n",
    "    df[col] = df[col].cat.codes"
   ]
  },
  {
   "cell_type": "code",
   "execution_count": 7,
   "metadata": {},
   "outputs": [
    {
     "name": "stdout",
     "output_type": "stream",
     "text": [
      "\n",
      "\n",
      "Encoded df: \n",
      "\n",
      "    Fruit_ID  Fruit_Type  Weight  Color  Taste  Price  Rating\n",
      "0         1           0     120      1      0    2.0     4.5\n",
      "1         2           1     150      2      0    3.0     4.8\n",
      "2         3           2     100      0      0    2.5     4.3\n",
      "3         4           1     130      2      0    3.0     4.7\n",
      "4         5           0     110      1      0    2.0     4.4\n"
     ]
    }
   ],
   "source": [
    "# Print the DataFrame\n",
    "print ('\\n\\nEncoded df: \\n\\n', df)"
   ]
  }
 ],
 "metadata": {
  "kernelspec": {
   "display_name": "Python 3",
   "language": "python",
   "name": "python3"
  },
  "language_info": {
   "codemirror_mode": {
    "name": "ipython",
    "version": 3
   },
   "file_extension": ".py",
   "mimetype": "text/x-python",
   "name": "python",
   "nbconvert_exporter": "python",
   "pygments_lexer": "ipython3",
   "version": "3.11.6"
  }
 },
 "nbformat": 4,
 "nbformat_minor": 2
}
