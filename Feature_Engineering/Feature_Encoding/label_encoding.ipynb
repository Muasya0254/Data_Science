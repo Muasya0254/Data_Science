{
 "cells": [
  {
   "cell_type": "code",
   "execution_count": 13,
   "metadata": {},
   "outputs": [],
   "source": [
    "import pandas as pd"
   ]
  },
  {
   "cell_type": "code",
   "execution_count": 14,
   "metadata": {},
   "outputs": [
    {
     "name": "stdout",
     "output_type": "stream",
     "text": [
      "\n",
      " Original df: \n",
      "\n",
      "    Fruit_ID Fruit_Type  Weight   Color  Taste  Price  Rating\n",
      "0         1      Apple     120     Red  Sweet    2.0     4.5\n",
      "1         2     Banana     150  Yellow  Sweet    3.0     4.8\n",
      "2         3     Orange     100  Orange  Sweet    2.5     4.3\n",
      "3         4     Banana     130  Yellow  Sweet    3.0     4.7\n",
      "4         5      Apple     110     Red  Sweet    2.0     4.4\n"
     ]
    }
   ],
   "source": [
    "# Create a Pandas DataFrame with some features and values\n",
    "df = pd.DataFrame({\n",
    "    \"Fruit_ID\": [1, 2, 3, 4, 5],\n",
    "    \"Fruit_Type\": [\"Apple\", \"Banana\", \"Orange\", \"Banana\", \"Apple\"],\n",
    "    \"Weight\": [120, 150, 100, 130, 110],\n",
    "    \"Color\": [\"Red\", \"Yellow\", \"Orange\", \"Yellow\", \"Red\"],\n",
    "    \"Taste\": [\"Sweet\", \"Sweet\", \"Sweet\", \"Sweet\", \"Sweet\"],\n",
    "    \"Price\": [2, 3, 2.5, 3, 2],\n",
    "    \"Rating\": [4.5, 4.8, 4.3, 4.7, 4.4]\n",
    "})\n",
    "print('\\n Original df: \\n\\n'  ,df)"
   ]
  },
  {
   "cell_type": "code",
   "execution_count": 15,
   "metadata": {},
   "outputs": [],
   "source": [
    "# Label encode the Color, Shape, and Material features\n",
    "for col in [\"Fruit_Type\", \"Color\", \"Taste\"]:\n",
    "    df[col] = df[col].astype(\"category\")\n",
    "    df[col] = df[col].cat.codes"
   ]
  },
  {
   "cell_type": "code",
   "execution_count": 16,
   "metadata": {},
   "outputs": [
    {
     "name": "stdout",
     "output_type": "stream",
     "text": [
      "\n",
      "\n",
      "Encoded df: \n",
      "\n",
      "    Fruit_ID  Fruit_Type  Weight  Color  Taste  Price  Rating\n",
      "0         1           0     120      1      0    2.0     4.5\n",
      "1         2           1     150      2      0    3.0     4.8\n",
      "2         3           2     100      0      0    2.5     4.3\n",
      "3         4           1     130      2      0    3.0     4.7\n",
      "4         5           0     110      1      0    2.0     4.4\n"
     ]
    }
   ],
   "source": [
    "# Print the DataFrame\n",
    "print ('\\n\\nEncoded df: \\n\\n', df)"
   ]
  },
  {
   "cell_type": "code",
   "execution_count": 18,
   "metadata": {},
   "outputs": [
    {
     "name": "stdout",
     "output_type": "stream",
     "text": [
      "\n",
      " Original house4s Dataframe: \n",
      "\n",
      "    House_ID  Square_Feet  Bedrooms  Bathrooms  Year_Built   Price\n",
      "0         1         1200         2          1        1995  150000\n",
      "1         2         1500         3          2        2000  200000\n",
      "2         3         1800         4          2        1985  230000\n",
      "3         4          900         2          1        2005  120000\n",
      "4         5         2200         4          3        2010  280000\n",
      "5         6         1000         2          1        1998  140000\n",
      "6         7         1600         3          2        2002  210000\n",
      "7         8         1300         2          1        1990  180000\n",
      "8         9         1100         2          1        2008  160000\n",
      "9        10         1700         3          2        2015  220000\n"
     ]
    }
   ],
   "source": [
    "# check your understanding using the house-for-sale dataset\n",
    "house4sale = pd.DataFrame({\n",
    "    \"House_ID\": [1, 2, 3, 4, 5, 6, 7, 8, 9, 10],\n",
    "    \"Square_Feet\": [1200, 1500, 1800, 900, 2200, 1000, 1600, 1300, 1100, 1700],\n",
    "    \"Bedrooms\": [2, 3, 4, 2, 4, 2, 3, 2, 2, 3],\n",
    "    \"Bathrooms\": [1, 2, 2, 1, 3, 1, 2, 1, 1, 2],\n",
    "    \"Year_Built\": [1995, 2000, 1985, 2005, 2010, 1998, 2002, 1990, 2008, 2015],\n",
    "    \"Price\": [150000, 200000, 230000, 120000, 280000, 140000, 210000, 180000, 160000, 220000]\n",
    "})\n",
    "print('\\n Original house4s Dataframe: \\n\\n'  ,house4sale)"
   ]
  },
  {
   "cell_type": "markdown",
   "metadata": {},
   "source": [
    "The house4sale DataFrame doesn't contain any categorical data, all the data is in numeric form"
   ]
  }
 ],
 "metadata": {
  "kernelspec": {
   "display_name": "Python 3",
   "language": "python",
   "name": "python3"
  },
  "language_info": {
   "codemirror_mode": {
    "name": "ipython",
    "version": 3
   },
   "file_extension": ".py",
   "mimetype": "text/x-python",
   "name": "python",
   "nbconvert_exporter": "python",
   "pygments_lexer": "ipython3",
   "version": "3.11.6"
  }
 },
 "nbformat": 4,
 "nbformat_minor": 2
}
