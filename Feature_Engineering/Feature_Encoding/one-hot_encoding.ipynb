{
 "cells": [
  {
   "cell_type": "code",
   "execution_count": 1,
   "metadata": {},
   "outputs": [],
   "source": [
    "import pandas as pd"
   ]
  },
  {
   "cell_type": "code",
   "execution_count": 3,
   "metadata": {},
   "outputs": [
    {
     "name": "stdout",
     "output_type": "stream",
     "text": [
      "   Fruit_ID Fruit_Type  Weight   Color  Taste  Price  Rating\n",
      "0         1      Apple     120     Red  Sweet    2.0     4.5\n",
      "1         2     Banana     150  Yellow  Sweet    3.0     4.8\n",
      "2         3     Orange     100  Orange  Sweet    2.5     4.3\n",
      "3         4     Banana     130  Yellow  Sweet    3.0     4.7\n",
      "4         5      Apple     110     Red  Sweet    2.0     4.4\n"
     ]
    }
   ],
   "source": [
    "# Create a Pandas DataFrame from the data\n",
    "fruits_data = ({\n",
    "    \"Fruit_ID\": [1, 2, 3, 4, 5],\n",
    "    \"Fruit_Type\": [\"Apple\", \"Banana\", \"Orange\", \"Banana\", \"Apple\"],\n",
    "    \"Weight\": [120, 150, 100, 130, 110],\n",
    "    \"Color\": [\"Red\", \"Yellow\", \"Orange\", \"Yellow\", \"Red\"],\n",
    "    \"Taste\": [\"Sweet\", \"Sweet\", \"Sweet\", \"Sweet\", \"Sweet\"],\n",
    "    \"Price\": [2, 3, 2.5, 3, 2],\n",
    "    \"Rating\": [4.5, 4.8, 4.3, 4.7, 4.4]\n",
    "})\n",
    "\n",
    "fruits = pd.DataFrame(fruits_data)\n",
    "print(fruits)"
   ]
  },
  {
   "cell_type": "code",
   "execution_count": 5,
   "metadata": {},
   "outputs": [
    {
     "name": "stdout",
     "output_type": "stream",
     "text": [
      "   Fruit_ID  Weight   Color  Taste  Price  Rating  Fruit_Type_Apple  \\\n",
      "0         1     120     Red  Sweet    2.0     4.5              True   \n",
      "1         2     150  Yellow  Sweet    3.0     4.8             False   \n",
      "2         3     100  Orange  Sweet    2.5     4.3             False   \n",
      "3         4     130  Yellow  Sweet    3.0     4.7             False   \n",
      "4         5     110     Red  Sweet    2.0     4.4              True   \n",
      "\n",
      "   Fruit_Type_Banana  Fruit_Type_Orange  \n",
      "0              False              False  \n",
      "1               True              False  \n",
      "2              False               True  \n",
      "3               True              False  \n",
      "4              False              False  \n"
     ]
    }
   ],
   "source": [
    "# One-hot encode the Fruit_Type feature\n",
    "fruits_onehot = pd.get_dummies(fruits, columns=[\"Fruit_Type\"])\n",
    "\n",
    "# Print the DataFrame\n",
    "print(fruits_onehot)"
   ]
  },
  {
   "cell_type": "code",
   "execution_count": 7,
   "metadata": {},
   "outputs": [
    {
     "name": "stdout",
     "output_type": "stream",
     "text": [
      "   Fruit_ID  Fruit_Type  Weight   Color  Taste  Price  Rating\n",
      "0         1           0     120     Red  Sweet    2.0     4.5\n",
      "1         2           1     150  Yellow  Sweet    3.0     4.8\n",
      "2         3           2     100  Orange  Sweet    2.5     4.3\n",
      "3         4           1     130  Yellow  Sweet    3.0     4.7\n",
      "4         5           0     110     Red  Sweet    2.0     4.4\n"
     ]
    }
   ],
   "source": [
    "# converting the 'fruit_type' columns to numeric form using the LabelEncoder\n",
    "from sklearn.preprocessing import LabelEncoder\n",
    "label_encoder = LabelEncoder()\n",
    "fruits['Fruit_Type'] = label_encoder.fit_transform(fruits['Fruit_Type'])\n",
    "print(fruits)"
   ]
  }
 ],
 "metadata": {
  "kernelspec": {
   "display_name": "Python 3",
   "language": "python",
   "name": "python3"
  },
  "language_info": {
   "codemirror_mode": {
    "name": "ipython",
    "version": 3
   },
   "file_extension": ".py",
   "mimetype": "text/x-python",
   "name": "python",
   "nbconvert_exporter": "python",
   "pygments_lexer": "ipython3",
   "version": "3.11.6"
  }
 },
 "nbformat": 4,
 "nbformat_minor": 2
}
