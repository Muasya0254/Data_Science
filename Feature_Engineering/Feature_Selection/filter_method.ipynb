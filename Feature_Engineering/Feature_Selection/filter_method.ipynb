{
 "cells": [
  {
   "cell_type": "code",
   "execution_count": 8,
   "metadata": {},
   "outputs": [
    {
     "name": "stdout",
     "output_type": "stream",
     "text": [
      "   Rain  Temperature  UV_Index  Wind_Speed  Humidity\n",
      "0     1           25         3          10        60\n",
      "1     1           30         5          15        70\n",
      "2     0           20         1           5        75\n",
      "3     1           28         4          12        55\n",
      "4     0           22         2           8        80\n"
     ]
    }
   ],
   "source": [
    "import pandas as pd\n",
    "\n",
    "# Sample DataFrame with features and target\n",
    "data = {\n",
    "    'Temperature': [25, 30, 20, 28, 22],\n",
    "    'Humidity': [60, 70, 75, 55, 80],\n",
    "    'Wind_Speed': [10, 15, 5, 12, 8],\n",
    "    'Pressure': [1012, 1015, 1008, 1010, 1013],\n",
    "    'Cloud_Cover': [0.2, 0.5, 0.8, 0.1, 0.6],\n",
    "    'Visibility': [10, 8, 5, 12, 7],\n",
    "    'UV_Index': [3, 5, 1, 4, 2],\n",
    "    'Pollution_Index': [50, 60, 30, 45, 40],\n",
    "    # 'Wind_Direction': ['NE', 'SE', 'NW', 'N', 'SW'],\n",
    "    'Rain': [1, 1, 0, 1, 0]  # 1 indicates rain, 0 indicates no rain\n",
    "}\n",
    "\n",
    "df = pd.DataFrame(data)\n",
    "\n",
    "# Calculate the correlation between features and the target\n",
    "correlation = df.corr().abs()\n",
    "\n",
    "# Select the correlation values for the 'Rain' feature\n",
    "rain_corr = correlation['Rain']\n",
    "\n",
    "# Sort features based on their correlation with the target in descending order\n",
    "selected_features = rain_corr.sort_values(ascending=False).index\n",
    "\n",
    "# Select the top 5 features\n",
    "top_5_features = selected_features[:5]\n",
    "\n",
    "# Subset the DataFrame with the top 5 features\n",
    "selected_df = df[top_5_features]\n",
    "\n",
    "print(selected_df)\n"
   ]
  }
 ],
 "metadata": {
  "kernelspec": {
   "display_name": "Python 3",
   "language": "python",
   "name": "python3"
  },
  "language_info": {
   "codemirror_mode": {
    "name": "ipython",
    "version": 3
   },
   "file_extension": ".py",
   "mimetype": "text/x-python",
   "name": "python",
   "nbconvert_exporter": "python",
   "pygments_lexer": "ipython3",
   "version": "3.11.5"
  }
 },
 "nbformat": 4,
 "nbformat_minor": 2
}
