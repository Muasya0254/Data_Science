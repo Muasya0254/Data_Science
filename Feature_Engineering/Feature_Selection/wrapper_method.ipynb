{
 "cells": [
  {
   "cell_type": "code",
   "execution_count": 9,
   "metadata": {},
   "outputs": [],
   "source": [
    "import pandas as pd\n",
    "from sklearn.model_selection import train_test_split\n",
    "from sklearn.ensemble import RandomForestClassifier"
   ]
  },
  {
   "cell_type": "code",
   "execution_count": 10,
   "metadata": {},
   "outputs": [],
   "source": [
    "# Sample dataset with features and target variable\n",
    "data = {\n",
    "    'Age': [25, 30, 35, 40, 45],\n",
    "    'Income': [40000, 50000, 60000, 70000, 80000],\n",
    "    'Education': [12, 14, 16, 18, 20],\n",
    "    'Credit_Score': [650, 700, 750, 800, 850],\n",
    "    'Loan_Amount': [50000, 60000, 70000, 80000, 90000],\n",
    "    'Years_Employed': [2, 5, 8, 10, 12],\n",
    "    'Years_Residence': [4, 6, 8, 10, 12],\n",
    "    'Loan_Approved': [0, 1, 1, 0, 1]\n",
    "}"
   ]
  },
  {
   "cell_type": "code",
   "execution_count": 11,
   "metadata": {},
   "outputs": [],
   "source": [
    "df= pd.DataFrame(data)\n",
    "\n",
    "# Separate features and target variable\n",
    "X = df.drop('Loan_Approved', axis=1)\n",
    "y = df['Loan_Approved']"
   ]
  },
  {
   "cell_type": "code",
   "execution_count": 12,
   "metadata": {},
   "outputs": [],
   "source": [
    "# Split the data into training and testing sets\n",
    "X_train, X_test, y_train, y_test = train_test_split(X, y, test_size=0.2, random_state=42)"
   ]
  },
  {
   "cell_type": "code",
   "execution_count": 13,
   "metadata": {},
   "outputs": [
    {
     "name": "stdout",
     "output_type": "stream",
     "text": [
      "           Feature  Importance\n",
      "6  Years_Residence    0.213178\n",
      "0              Age    0.182171\n",
      "2        Education    0.156977\n",
      "1           Income    0.139535\n",
      "5   Years_Employed    0.110465\n",
      "3     Credit_Score    0.106589\n",
      "4      Loan_Amount    0.091085\n"
     ]
    }
   ],
   "source": [
    "# Create a Random Forest classifier model\n",
    "model = RandomForestClassifier()\n",
    "\n",
    "# Fit the model to get feature importances\n",
    "model.fit(X_train, y_train)\n",
    "\n",
    "# Get feature importances from the model\n",
    "feature_importances = model.feature_importances_\n",
    "\n",
    "# Create a DataFrame to store feature importances\n",
    "feature_importance_df = pd.DataFrame({'Feature': X.columns, 'Importance': feature_importances})\n",
    "\n",
    "# Sort the features by importance in descending order\n",
    "feature_importance_df = feature_importance_df.sort_values(by='Importance', ascending=False)\n",
    "\n",
    "# Display the sorted feature importances\n",
    "print(feature_importance_df)"
   ]
  }
 ],
 "metadata": {
  "kernelspec": {
   "display_name": "Python 3",
   "language": "python",
   "name": "python3"
  },
  "language_info": {
   "codemirror_mode": {
    "name": "ipython",
    "version": 3
   },
   "file_extension": ".py",
   "mimetype": "text/x-python",
   "name": "python",
   "nbconvert_exporter": "python",
   "pygments_lexer": "ipython3",
   "version": "3.11.5"
  }
 },
 "nbformat": 4,
 "nbformat_minor": 2
}
