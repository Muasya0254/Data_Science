{
 "cells": [
  {
   "cell_type": "code",
   "execution_count": 1,
   "metadata": {},
   "outputs": [],
   "source": [
    "import pandas as pd"
   ]
  },
  {
   "cell_type": "code",
   "execution_count": 2,
   "metadata": {},
   "outputs": [],
   "source": [
    "data = {\n",
    "    \"Student_ID\": [101, 102, 103, 104, 105],\n",
    "    \"Math_Score\": [85, 60, 78, 92, 70],\n",
    "    \"Science_Score\": [72, 88, 55, 78, 82],\n",
    "    \"English_Score\": [90, 85, 76, 88, 65],\n",
    "    \"History_Score\": [80, 72, 85, 90, 78],\n",
    "}\n",
    "\n",
    "df = pd.DataFrame(data)"
   ]
  },
  {
   "cell_type": "code",
   "execution_count": 5,
   "metadata": {},
   "outputs": [],
   "source": [
    "# first define the bin edges and lables for the 'Math_Score' column\n",
    "bin_edges = [0, 70, 80, 100]\n",
    "bin_labels = ['Low', 'Average', 'High']"
   ]
  },
  {
   "cell_type": "code",
   "execution_count": 6,
   "metadata": {},
   "outputs": [],
   "source": [
    "# Use pandas cut() function to perform binning\n",
    "df['Math_Category'] = pd.cut(df['Math_Score'], bins=bin_edges, labels=bin_labels)"
   ]
  },
  {
   "cell_type": "code",
   "execution_count": 7,
   "metadata": {},
   "outputs": [
    {
     "name": "stdout",
     "output_type": "stream",
     "text": [
      "   Student_ID  Math_Score  Science_Score  English_Score  History_Score  \\\n",
      "0         101          85             72             90             80   \n",
      "1         102          60             88             85             72   \n",
      "2         103          78             55             76             85   \n",
      "3         104          92             78             88             90   \n",
      "4         105          70             82             65             78   \n",
      "\n",
      "  Math_Category  \n",
      "0          High  \n",
      "1           Low  \n",
      "2       Average  \n",
      "3          High  \n",
      "4           Low  \n"
     ]
    }
   ],
   "source": [
    "# Display the DataFrame with the new category column\n",
    "print(df)"
   ]
  },
  {
   "cell_type": "code",
   "execution_count": 9,
   "metadata": {},
   "outputs": [],
   "source": [
    "# perform binning for the 'Science_Score' column\n",
    "df['Science_Category'] = pd.cut(df['Science_Score'], bins=bin_edges, labels=bin_labels)"
   ]
  },
  {
   "cell_type": "code",
   "execution_count": 10,
   "metadata": {},
   "outputs": [
    {
     "name": "stdout",
     "output_type": "stream",
     "text": [
      "   Student_ID  Math_Score  Science_Score  English_Score  History_Score  \\\n",
      "0         101          85             72             90             80   \n",
      "1         102          60             88             85             72   \n",
      "2         103          78             55             76             85   \n",
      "3         104          92             78             88             90   \n",
      "4         105          70             82             65             78   \n",
      "\n",
      "  Math_Category Science_Category  \n",
      "0          High          Average  \n",
      "1           Low             High  \n",
      "2       Average              Low  \n",
      "3          High          Average  \n",
      "4           Low             High  \n"
     ]
    }
   ],
   "source": [
    "print(df)"
   ]
  }
 ],
 "metadata": {
  "kernelspec": {
   "display_name": "Python 3",
   "language": "python",
   "name": "python3"
  },
  "language_info": {
   "codemirror_mode": {
    "name": "ipython",
    "version": 3
   },
   "file_extension": ".py",
   "mimetype": "text/x-python",
   "name": "python",
   "nbconvert_exporter": "python",
   "pygments_lexer": "ipython3",
   "version": "3.11.6"
  }
 },
 "nbformat": 4,
 "nbformat_minor": 2
}
