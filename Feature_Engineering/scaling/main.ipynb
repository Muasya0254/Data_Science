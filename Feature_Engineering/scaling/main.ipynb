{
 "cells": [
  {
   "cell_type": "code",
   "execution_count": 1,
   "metadata": {},
   "outputs": [],
   "source": [
    "import pandas as pd"
   ]
  },
  {
   "cell_type": "code",
   "execution_count": 2,
   "metadata": {},
   "outputs": [],
   "source": [
    "# create a sample dataframe\n",
    "\n",
    "data = {\n",
    "    \"Age\": [25, 30, 22, 35],\n",
    "    \"Height\": [160, 170, 155, 175],\n",
    "    \"Weight\": [55, 60, 50, 65],\n",
    "    \"Gender\": [\"Male\", \"Female\", \"Female\", \"Male\"],\n",
    "    \"Income\": [50000, 60000, 40000, 70000],\n",
    "    \"Education\": [\"Bachelor's\", \"Master's\", \"Bachelor's\", \"PhD\"],\n",
    "    \"Experience\": [2, 5, 1, 7]\n",
    "}\n",
    "df = pd.DataFrame(data)"
   ]
  },
  {
   "cell_type": "code",
   "execution_count": 3,
   "metadata": {},
   "outputs": [
    {
     "data": {
      "text/html": [
       "<div>\n",
       "<style scoped>\n",
       "    .dataframe tbody tr th:only-of-type {\n",
       "        vertical-align: middle;\n",
       "    }\n",
       "\n",
       "    .dataframe tbody tr th {\n",
       "        vertical-align: top;\n",
       "    }\n",
       "\n",
       "    .dataframe thead th {\n",
       "        text-align: right;\n",
       "    }\n",
       "</style>\n",
       "<table border=\"1\" class=\"dataframe\">\n",
       "  <thead>\n",
       "    <tr style=\"text-align: right;\">\n",
       "      <th></th>\n",
       "      <th>Age</th>\n",
       "      <th>Height</th>\n",
       "      <th>Weight</th>\n",
       "      <th>Gender</th>\n",
       "      <th>Income</th>\n",
       "      <th>Education</th>\n",
       "      <th>Experience</th>\n",
       "    </tr>\n",
       "  </thead>\n",
       "  <tbody>\n",
       "    <tr>\n",
       "      <th>0</th>\n",
       "      <td>25</td>\n",
       "      <td>160</td>\n",
       "      <td>55</td>\n",
       "      <td>Male</td>\n",
       "      <td>50000</td>\n",
       "      <td>Bachelor's</td>\n",
       "      <td>2</td>\n",
       "    </tr>\n",
       "    <tr>\n",
       "      <th>1</th>\n",
       "      <td>30</td>\n",
       "      <td>170</td>\n",
       "      <td>60</td>\n",
       "      <td>Female</td>\n",
       "      <td>60000</td>\n",
       "      <td>Master's</td>\n",
       "      <td>5</td>\n",
       "    </tr>\n",
       "    <tr>\n",
       "      <th>2</th>\n",
       "      <td>22</td>\n",
       "      <td>155</td>\n",
       "      <td>50</td>\n",
       "      <td>Female</td>\n",
       "      <td>40000</td>\n",
       "      <td>Bachelor's</td>\n",
       "      <td>1</td>\n",
       "    </tr>\n",
       "  </tbody>\n",
       "</table>\n",
       "</div>"
      ],
      "text/plain": [
       "   Age  Height  Weight  Gender  Income   Education  Experience\n",
       "0   25     160      55    Male   50000  Bachelor's           2\n",
       "1   30     170      60  Female   60000    Master's           5\n",
       "2   22     155      50  Female   40000  Bachelor's           1"
      ]
     },
     "execution_count": 3,
     "metadata": {},
     "output_type": "execute_result"
    }
   ],
   "source": [
    "df.head(3)"
   ]
  },
  {
   "cell_type": "code",
   "execution_count": 4,
   "metadata": {},
   "outputs": [
    {
     "name": "stdout",
     "output_type": "stream",
     "text": [
      "\n",
      "Original DataFrame:\n",
      "\n",
      "   Age  Height  Weight  Gender  Income   Education  Experience\n",
      "0   25     160      55    Male   50000  Bachelor's           2\n",
      "1   30     170      60  Female   60000    Master's           5\n",
      "2   22     155      50  Female   40000  Bachelor's           1\n",
      "3   35     175      65    Male   70000         PhD           7\n"
     ]
    }
   ],
   "source": [
    "# separate the numeric and categorical columnsfeatures for scaling\n",
    "\n",
    "numeric_features = [\"Age\", \"Height\", \"Weight\", \"Income\", \"Experience\"]\n",
    "numeric_df = df[numeric_features]\n",
    "\n",
    "# Before scaling\n",
    "print(\"\\nOriginal DataFrame:\\n\")\n",
    "print(df)"
   ]
  },
  {
   "cell_type": "code",
   "execution_count": 5,
   "metadata": {},
   "outputs": [
    {
     "name": "stdout",
     "output_type": "stream",
     "text": [
      "\n",
      "Scaled DataFrame:\n",
      "\n",
      "        Age  Height    Weight    Income  Experience\n",
      "0  0.230769    0.25  0.333333  0.333333    0.166667\n",
      "1  0.615385    0.75  0.666667  0.666667    0.666667\n",
      "2  0.000000    0.00  0.000000  0.000000    0.000000\n",
      "3  1.000000    1.00  1.000000  1.000000    1.000000\n"
     ]
    }
   ],
   "source": [
    "# Applying feature scaling using Min-Max Scaling only to numeric features\n",
    "scaled_numeric_df = (numeric_df - numeric_df.min()) / (numeric_df.max() - numeric_df.min())\n",
    "\n",
    "print(\"\\nScaled DataFrame:\\n\")\n",
    "print(scaled_numeric_df)"
   ]
  },
  {
   "cell_type": "code",
   "execution_count": 6,
   "metadata": {},
   "outputs": [
    {
     "name": "stdout",
     "output_type": "stream",
     "text": [
      "\n",
      "Modified Scaled DataFrame:\n",
      "\n",
      "        Age  Height    Weight    Income  Experience\n",
      "0  0.230769    0.25  0.333333  0.333333    0.166667\n",
      "1  0.615385    0.75  0.666667  0.666667    0.666667\n",
      "2  0.000000    0.00  0.000000  0.000000    0.000000\n",
      "3  1.000000    1.00  1.000000  1.000000    1.000000\n"
     ]
    }
   ],
   "source": [
    "# Modify the scaled values to ensure they are positive\n",
    "scaled_numeric_df = scaled_numeric_df + abs(scaled_numeric_df.min())\n",
    "\n",
    "print(\"\\nModified Scaled DataFrame:\\n\")\n",
    "print(scaled_numeric_df)"
   ]
  },
  {
   "cell_type": "code",
   "execution_count": 7,
   "metadata": {},
   "outputs": [
    {
     "name": "stdout",
     "output_type": "stream",
     "text": [
      "\n",
      "Rounded Scaled DataFrame:\n",
      "\n",
      "   Age  Height  Weight  Income  Experience\n",
      "0  0.2     0.2     0.3     0.3         0.2\n",
      "1  0.6     0.8     0.7     0.7         0.7\n",
      "2  0.0     0.0     0.0     0.0         0.0\n",
      "3  1.0     1.0     1.0     1.0         1.0\n"
     ]
    }
   ],
   "source": [
    "# Convert scaled values to one significant figure\n",
    "scaled_numeric_df = scaled_numeric_df.round(1)\n",
    "\n",
    "print(\"\\nRounded Scaled DataFrame:\\n\")\n",
    "print(scaled_numeric_df)"
   ]
  },
  {
   "cell_type": "code",
   "execution_count": 8,
   "metadata": {},
   "outputs": [
    {
     "name": "stdout",
     "output_type": "stream",
     "text": [
      "\n",
      "Scaled DataFrame:\n",
      "\n",
      "   Age  Height  Weight  Gender  Income   Education  Experience\n",
      "0  0.2     0.2     0.3    Male     0.3  Bachelor's         0.2\n",
      "1  0.6     0.8     0.7  Female     0.7    Master's         0.7\n",
      "2  0.0     0.0     0.0  Female     0.0  Bachelor's         0.0\n",
      "3  1.0     1.0     1.0    Male     1.0         PhD         1.0\n"
     ]
    }
   ],
   "source": [
    "# Combine the scaled numeric features with non-numeric features\n",
    "df_scaled = df.copy()\n",
    "df_scaled[numeric_features] = scaled_numeric_df\n",
    "\n",
    "# After scaling\n",
    "print(\"\\nScaled DataFrame:\\n\")\n",
    "print(df_scaled)"
   ]
  }
 ],
 "metadata": {
  "kernelspec": {
   "display_name": "Python 3",
   "language": "python",
   "name": "python3"
  },
  "language_info": {
   "codemirror_mode": {
    "name": "ipython",
    "version": 3
   },
   "file_extension": ".py",
   "mimetype": "text/x-python",
   "name": "python",
   "nbconvert_exporter": "python",
   "pygments_lexer": "ipython3",
   "version": "3.11.6"
  }
 },
 "nbformat": 4,
 "nbformat_minor": 2
}
